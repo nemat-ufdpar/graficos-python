{
 "cells": [
  {
   "cell_type": "markdown",
   "id": "8c7a3080",
   "metadata": {},
   "source": [
    "# Calcula matrizes"
   ]
  },
  {
   "cell_type": "code",
   "execution_count": 2,
   "id": "2bb2660b-4f26-4772-ad44-cc48ceb85db1",
   "metadata": {},
   "outputs": [
    {
     "name": "stdout",
     "output_type": "stream",
     "text": [
      "Matriz A:\n",
      "[[1 2]\n",
      " [3 4]\n",
      " [5 6]]\n",
      "\n",
      "Matriz B (Transposta):\n",
      "[[ 7  9 11]\n",
      " [ 8 10 12]]\n",
      "\n",
      "Resultado da multiplicação A * B^T:\n",
      "[[ 23  29  35]\n",
      " [ 53  67  81]\n",
      " [ 83 105 127]]\n"
     ]
    }
   ],
   "source": [
    "import numpy as np\n",
    "\n",
    "# Criar as matrizes A e B\n",
    "A = np.array([[1, 2],\n",
    "              [3, 4],\n",
    "              [5, 6]])\n",
    "\n",
    "B = np.array([[7, 8],\n",
    "              [9, 10],\n",
    "              [11, 12]])\n",
    "\n",
    "B_transposta = B.T  # transpor B para ter dimensões 2x3\n",
    "\n",
    "# multiplicação de matrizes\n",
    "resultado = np.dot(A, B_transposta)\n",
    "\n",
    "# exibindo o resultado\n",
    "print(\"Matriz A:\")\n",
    "print(A)\n",
    "\n",
    "print(\"\\nMatriz B (Transposta):\")\n",
    "print(B_transposta)\n",
    "\n",
    "print(\"\\nResultado da multiplicação A * B^T:\")\n",
    "print(resultado)\n"
   ]
  }
 ],
 "metadata": {
  "kernelspec": {
   "display_name": "Python 3 (ipykernel)",
   "language": "python",
   "name": "python3"
  },
  "language_info": {
   "codemirror_mode": {
    "name": "ipython",
    "version": 3
   },
   "file_extension": ".py",
   "mimetype": "text/x-python",
   "name": "python",
   "nbconvert_exporter": "python",
   "pygments_lexer": "ipython3",
   "version": "3.9.19"
  }
 },
 "nbformat": 4,
 "nbformat_minor": 5
}
